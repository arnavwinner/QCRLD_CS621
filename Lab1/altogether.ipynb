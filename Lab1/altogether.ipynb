{
 "cells": [
  {
   "cell_type": "code",
   "execution_count": 1,
   "id": "f82819a7-08ab-41b2-b127-edf941f3f378",
   "metadata": {},
   "outputs": [
    {
     "ename": "ModuleNotFoundError",
     "evalue": "No module named 'qiskit'",
     "output_type": "error",
     "traceback": [
      "\u001b[0;31m---------------------------------------------------------------------------\u001b[0m",
      "\u001b[0;31mModuleNotFoundError\u001b[0m                       Traceback (most recent call last)",
      "Cell \u001b[0;32mIn[1], line 1\u001b[0m\n\u001b[0;32m----> 1\u001b[0m \u001b[38;5;28;01mfrom\u001b[39;00m \u001b[38;5;21;01mqiskit\u001b[39;00m \u001b[38;5;28;01mimport\u001b[39;00m QuantumRegister, QuantumCircuit, Aer, execute\n\u001b[1;32m      3\u001b[0m q \u001b[38;5;241m=\u001b[39m QuantumRegister(\u001b[38;5;241m1\u001b[39m)\n\u001b[1;32m      4\u001b[0m hello \u001b[38;5;241m=\u001b[39m QuantumCircuit(q)\n",
      "\u001b[0;31mModuleNotFoundError\u001b[0m: No module named 'qiskit'"
     ]
    }
   ],
   "source": [
    "\n",
    "from qiskit import QuantumRegister, QuantumCircuit, Aer, execute\n",
    "\n",
    "q = QuantumRegister(1)\n",
    "hello = QuantumCircuit(q)\n",
    "hello.id(q[0])\n",
    "\n",
    "backend = Aer.get_backend('statevector_simulator')  # Use 'statevector_simulator' for statevector simulation\n",
    "job = execute(hello, backend)\n",
    "result = job.result()\n",
    "statevector = result.get_statevector()\n",
    "\n",
    "print(statevector)\n"
   ]
  },
  {
   "cell_type": "code",
   "execution_count": null,
   "id": "ec023a18-4af0-4a56-8b62-dd3776124b00",
   "metadata": {},
   "outputs": [],
   "source": []
  }
 ],
 "metadata": {
  "kernelspec": {
   "display_name": "Python 3 (ipykernel)",
   "language": "python",
   "name": "python3"
  },
  "language_info": {
   "codemirror_mode": {
    "name": "ipython",
    "version": 3
   },
   "file_extension": ".py",
   "mimetype": "text/x-python",
   "name": "python",
   "nbconvert_exporter": "python",
   "pygments_lexer": "ipython3",
   "version": "3.11.4"
  }
 },
 "nbformat": 4,
 "nbformat_minor": 5
}
